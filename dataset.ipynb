{
 "cells": [
  {
   "cell_type": "code",
   "execution_count": 33,
   "id": "b56f4d7a",
   "metadata": {},
   "outputs": [],
   "source": [
    "data=[4,5,6,7,8,2,1,0]"
   ]
  },
  {
   "cell_type": "markdown",
   "id": "0cea1320",
   "metadata": {},
   "source": [
    "data sorting"
   ]
  },
  {
   "cell_type": "code",
   "execution_count": 34,
   "id": "207ffbc7",
   "metadata": {},
   "outputs": [],
   "source": [
    "data.sort()"
   ]
  },
  {
   "cell_type": "code",
   "execution_count": 35,
   "id": "06e6772b",
   "metadata": {},
   "outputs": [
    {
     "name": "stdout",
     "output_type": "stream",
     "text": [
      "[0, 1, 2, 4, 5, 6, 7, 8]\n"
     ]
    }
   ],
   "source": [
    "print(data)"
   ]
  },
  {
   "cell_type": "code",
   "execution_count": 39,
   "id": "d0e2e3e8",
   "metadata": {},
   "outputs": [
    {
     "name": "stdout",
     "output_type": "stream",
     "text": [
      "enter the element:8\n"
     ]
    }
   ],
   "source": [
    "element=int(input(\"enter the element:\"))"
   ]
  },
  {
   "cell_type": "code",
   "execution_count": 42,
   "id": "a4e7d818",
   "metadata": {},
   "outputs": [],
   "source": [
    "def binary_search(data,element):\n",
    "    low=0\n",
    "    high=len(data)-1\n",
    "    while low<= high:\n",
    "        middle=(low+high)//2\n",
    "        if data[middle]==element:\n",
    "            print(f\"the searching element {element} is present in index value {middle} in dataset\")\n",
    "            break\n",
    "        elif data[middle]>element:\n",
    "            high=middle-1\n",
    "        else:\n",
    "            low=middle+1\n",
    "    if data[middle] !=element:\n",
    "            print(f\"the searching element {element} is not present in the index\")\n",
    "            return\n",
    "            \n",
    "        "
   ]
  },
  {
   "cell_type": "code",
   "execution_count": 43,
   "id": "3bd7741a",
   "metadata": {},
   "outputs": [
    {
     "name": "stdout",
     "output_type": "stream",
     "text": [
      "the searching element 8 is present in index value 7 in dataset\n"
     ]
    }
   ],
   "source": [
    "binary_search(data,element)"
   ]
  },
  {
   "cell_type": "code",
   "execution_count": null,
   "id": "27a62a3d",
   "metadata": {},
   "outputs": [],
   "source": []
  }
 ],
 "metadata": {
  "kernelspec": {
   "display_name": "Python 3 (ipykernel)",
   "language": "python",
   "name": "python3"
  },
  "language_info": {
   "codemirror_mode": {
    "name": "ipython",
    "version": 3
   },
   "file_extension": ".py",
   "mimetype": "text/x-python",
   "name": "python",
   "nbconvert_exporter": "python",
   "pygments_lexer": "ipython3",
   "version": "3.11.4"
  }
 },
 "nbformat": 4,
 "nbformat_minor": 5
}
