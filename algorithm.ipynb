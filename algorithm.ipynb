{
 "cells": [
  {
   "cell_type": "code",
   "execution_count": 28,
   "id": "269023d5",
   "metadata": {},
   "outputs": [
    {
     "name": "stdout",
     "output_type": "stream",
     "text": [
      "enter the marks78\n",
      "enter the marks89\n",
      "enter the marks90\n",
      "enter the marks99\n"
     ]
    }
   ],
   "source": [
    "mark=[]\n",
    "for marks in range(1,5):\n",
    "    mark.append(int(input(\"enter the marks\")))"
   ]
  },
  {
   "cell_type": "code",
   "execution_count": 29,
   "id": "8a845030",
   "metadata": {},
   "outputs": [
    {
     "data": {
      "text/plain": [
       "89.0"
      ]
     },
     "execution_count": 29,
     "metadata": {},
     "output_type": "execute_result"
    }
   ],
   "source": [
    "avg=sum(mark)/4\n",
    "avg"
   ]
  },
  {
   "cell_type": "code",
   "execution_count": 30,
   "id": "203de58e",
   "metadata": {},
   "outputs": [
    {
     "name": "stdout",
     "output_type": "stream",
     "text": [
      "you are pass\n"
     ]
    }
   ],
   "source": [
    "if avg>50:\n",
    "    print(\"you are pass\")\n",
    "else:\n",
    "    print(\"you are fail\")"
   ]
  },
  {
   "cell_type": "code",
   "execution_count": 26,
   "id": "bd27b6c7",
   "metadata": {},
   "outputs": [
    {
     "data": {
      "text/plain": [
       "98"
      ]
     },
     "execution_count": 26,
     "metadata": {},
     "output_type": "execute_result"
    }
   ],
   "source": [
    "mark[2]"
   ]
  },
  {
   "cell_type": "code",
   "execution_count": 31,
   "id": "2c64555d",
   "metadata": {},
   "outputs": [],
   "source": [
    "l=[1,2,3,4]"
   ]
  },
  {
   "cell_type": "markdown",
   "id": "13bedc3a",
   "metadata": {},
   "source": [
    "# "
   ]
  },
  {
   "cell_type": "code",
   "execution_count": null,
   "id": "aca7c730",
   "metadata": {},
   "outputs": [],
   "source": []
  }
 ],
 "metadata": {
  "kernelspec": {
   "display_name": "Python 3 (ipykernel)",
   "language": "python",
   "name": "python3"
  },
  "language_info": {
   "codemirror_mode": {
    "name": "ipython",
    "version": 3
   },
   "file_extension": ".py",
   "mimetype": "text/x-python",
   "name": "python",
   "nbconvert_exporter": "python",
   "pygments_lexer": "ipython3",
   "version": "3.11.4"
  }
 },
 "nbformat": 4,
 "nbformat_minor": 5
}
